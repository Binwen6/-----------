{
 "cells": [
  {
   "cell_type": "code",
   "execution_count": null,
   "metadata": {},
   "outputs": [],
   "source": [
    "# 熵权法确定会员完成能力\n",
    "# 将../data/有效会员信息数据.xlsx中的每位会员的预订任务限额作为指标1\n",
    "# 将每位会员的预订任务开始时间与6:30的差值分钟数（3的倍数）作为指标2\n",
    "# 若指标2不为0，则指标2更新为自己的倒数\n",
    "# 若指标2为0，则指标2统一更新为常数0.5\n",
    "# x_kj表示第k个会员的指标j的值\n",
    "\n",
    "import pandas as pd\n",
    "import numpy as np\n",
    "import math\n",
    "\n",
    "\n"
   ]
  },
  {
   "cell_type": "code",
   "execution_count": null,
   "metadata": {},
   "outputs": [],
   "source": [
    "# 读取数据\n",
    "data = pd.read_excel('../data/有效会员信息数据.xlsx')\n",
    "data = data.dropna()\n",
    "data = data.reset_index(drop=True)\n",
    "# print(data)\n",
    "\n"
   ]
  },
  {
   "cell_type": "code",
   "execution_count": null,
   "metadata": {},
   "outputs": [],
   "source": [
    "# 计算指标1\n",
    "x_11 = data['预订任务限额'].values\n",
    "# print(x_11)\n",
    "\n",
    "# 计算指标2\n",
    "x_21 = data['预订任务开始时间'].values\n",
    "x_22 = []\n",
    "for i in range(len(x_21)):\n",
    "    x_22.append((x_21[i] - 390) / 3)\n",
    "x_22 = np.array(x_22)\n",
    "# print(x_22)\n",
    "\n",
    "# 更新指标2\n",
    "for i in range(len(x_22)):\n",
    "    if x_22[i] != 0:\n",
    "        x_22[i] = 1 / x_22[i]\n",
    "    else:\n",
    "        x_22[i] = 0.5\n",
    "# print(x_22)\n"
   ]
  }
 ],
 "metadata": {
  "language_info": {
   "name": "python"
  }
 },
 "nbformat": 4,
 "nbformat_minor": 2
}
