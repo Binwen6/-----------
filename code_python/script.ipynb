{
 "cells": [
  {
   "cell_type": "code",
   "execution_count": 40,
   "metadata": {},
   "outputs": [],
   "source": [
    "# 熵权法确定会员完成能力\n",
    "# 将../data/有效会员信息数据.xlsx中的每位会员的预订任务限额作为指标1\n",
    "# 将每位会员的预订任务开始时间与6:30的差值分钟数（3的倍数）作为指标2\n",
    "# 若指标2不为0，则指标2更新为自己的倒数\n",
    "# 若指标2为0，则指标2统一更新为常数0.5\n",
    "# x_kj表示第k个会员的指标j的值\n",
    "\n",
    "import pandas as pd\n",
    "import numpy as np\n",
    "import math"
   ]
  },
  {
   "cell_type": "code",
   "execution_count": 41,
   "metadata": {},
   "outputs": [
    {
     "name": "stdout",
     "output_type": "stream",
     "text": [
      "       会员编号          经度         纬度  预订任务限额  预订任务开始时间\n",
      "0     B0001  113.679983  22.947097     114  06:30:00\n",
      "1     B0002  113.966524  22.577792     163  06:30:00\n",
      "2     B0003  113.347272  23.192458     139  06:30:00\n",
      "3     B0004  113.318750  23.255965      98  06:30:00\n",
      "4     B0006  112.797680  22.262784      72  06:30:00\n",
      "...     ...         ...        ...     ...       ...\n",
      "1869  B1873  113.277245  22.840505       1  08:00:00\n",
      "1870  B1874  113.287606  23.069415       1  08:00:00\n",
      "1871  B1875  113.301736  23.333446       1  08:00:00\n",
      "1872  B1876  113.994101  22.693506       1  08:00:00\n",
      "1873  B1877  113.239864  23.133238       1  08:00:00\n",
      "\n",
      "[1874 rows x 5 columns]\n"
     ]
    }
   ],
   "source": [
    "# 读取数据\n",
    "data = pd.read_excel('../data/有效会员信息数据.xlsx')\n",
    "data = data.dropna()\n",
    "data = data.reset_index(drop=True)\n",
    "\n",
    "print(data)"
   ]
  },
  {
   "cell_type": "code",
   "execution_count": 46,
   "metadata": {},
   "outputs": [
    {
     "name": "stdout",
     "output_type": "stream",
     "text": [
      "[114 163 139 ...   1   1   1]\n",
      "[ 0.  0.  0. ... 90. 90. 90.]\n",
      "[0.5        0.5        0.5        ... 0.01111111 0.01111111 0.01111111]\n"
     ]
    }
   ],
   "source": [
    "# 计算指标1\n",
    "x_1 = data['预订任务限额'].values\n",
    "print(x_1)\n",
    "\n",
    "# 计算指标2\n",
    "x_21 = data['预订任务开始时间'].values\n",
    "x_2 = []\n",
    "for i in range(len(x_21)):\n",
    "    time_parts = x_21[i].split(':')\n",
    "    minutes = int(time_parts[0]) * 60 + int(time_parts[1]) + int(time_parts[2]) / 60\n",
    "    x_2.append(minutes)\n",
    "x_2 = np.array(x_2) - 390\n",
    "print(x_2)\n",
    "\n",
    "# 更新指标2\n",
    "for i in range(len(x_2)):\n",
    "    if x_2[i] != 0:\n",
    "        x_2[i] = 1 / x_2[i]\n",
    "    else:\n",
    "        x_2[i] = 0.5\n",
    "print(x_2)\n",
    "\n",
    "# 用以上计算出的指标生成一份新的表格\n",
    "data_new = pd.DataFrame()\n",
    "data_new['会员编号'] = data['会员编号']\n",
    "data_new['指标1'] = x_1\n",
    "data_new['指标2'] = x_2\n",
    "data_new.to_excel('../data/会员完成能力指标.xlsx', index=False)\n"
   ]
  }
 ],
 "metadata": {
  "language_info": {
   "name": "python"
  }
 },
 "nbformat": 4,
 "nbformat_minor": 2
}
