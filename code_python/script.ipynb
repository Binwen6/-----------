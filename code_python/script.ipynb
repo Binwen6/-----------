{
 "cells": [
  {
   "cell_type": "code",
   "execution_count": null,
   "metadata": {},
   "outputs": [],
   "source": [
    "# 定义一个吸引度公式\n",
    "\n",
    "# 定义一个矩阵（excel），每一行代表一个会员，每一列代表一个任务\n",
    "# 会员数据来源于../data/有效会员信息数据.xlsx中的会员编号列\n",
    "# 任务数据来源于../data/有效已结束项目任务位置数据.xlsx中的任务号码列\n",
    "\n",
    "# 吸引度的公式为：$$\\sqrt{\\frac{a}{distance^2}+b*price^2}$$\n",
    "# 其中a和b为参数，distance为会员到任务的距离（出自会员数据中的经度和纬度列以及任务数据中的任务gps 纬度和任务gps经度列），price为任务的价格（出自任务数据中的任务标价列）\n",
    "\n",
    "# 请根据上述公式，计算出每一个会员对每一个任务的吸引度，并将结果保存在一个新的矩阵中"
   ]
  },
  {
   "cell_type": "code",
   "execution_count": 2,
   "metadata": {},
   "outputs": [],
   "source": [
    "import pandas as pd\n",
    "import numpy as np\n",
    "from geopy.distance import geodesic\n",
    "\n",
    "# Load data\n",
    "members_df = pd.read_excel('../data/有效会员信息数据.xlsx')\n",
    "tasks_df = pd.read_excel('../data/有效已结束项目任务位置数据.xlsx')\n",
    "\n",
    "# Extract relevant columns\n",
    "member_ids = members_df['会员编号']\n",
    "task_ids = tasks_df['任务号码']\n",
    "member_coords = members_df[['经度', '纬度']].values\n",
    "task_coords = tasks_df[['任务gps经度', '任务gps 纬度']].values\n",
    "task_prices = tasks_df['任务标价'].values\n",
    "\n",
    "# Convert longitude from 0-180 to -90-90\n",
    "def convert_longitude(lon):\n",
    "    return lon - 90\n",
    "\n",
    "member_coords[:, 0] = np.vectorize(convert_longitude)(member_coords[:, 0])\n",
    "task_coords[:, 0] = np.vectorize(convert_longitude)(task_coords[:, 0])\n",
    "\n",
    "# Parameters\n",
    "a = 0.01  # Example value, adjust as needed\n",
    "b = 0.0001  # Example value, adjust as needed\n",
    "\n",
    "# Initialize the attractiveness matrix\n",
    "attractiveness_matrix = np.zeros((len(member_ids), len(task_ids)))\n",
    "\n",
    "# Calculate attractiveness\n",
    "for i, member_coord in enumerate(member_coords):\n",
    "    for j, task_coord in enumerate(task_coords):\n",
    "        distance = geodesic(member_coord, task_coord).kilometers\n",
    "        price = task_prices[j]\n",
    "        attractiveness = np.sqrt(a / (distance ** 2) + b * (price ** 2))\n",
    "        attractiveness_matrix[i, j] = attractiveness\n",
    "\n",
    "# Convert to DataFrame for better readability\n",
    "attractiveness_df = pd.DataFrame(attractiveness_matrix, index=member_ids, columns=task_ids)\n",
    "\n",
    "# Save the result to a new Excel file\n",
    "attractiveness_df.to_excel('../data/会员任务吸引度矩阵.xlsx')"
   ]
  }
 ],
 "metadata": {
  "kernelspec": {
   "display_name": "pyTorchgpuEnv",
   "language": "python",
   "name": "python3"
  },
  "language_info": {
   "codemirror_mode": {
    "name": "ipython",
    "version": 3
   },
   "file_extension": ".py",
   "mimetype": "text/x-python",
   "name": "python",
   "nbconvert_exporter": "python",
   "pygments_lexer": "ipython3",
   "version": "3.12.4"
  }
 },
 "nbformat": 4,
 "nbformat_minor": 2
}
